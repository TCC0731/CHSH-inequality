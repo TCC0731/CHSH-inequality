{
 "cells": [
  {
   "cell_type": "code",
   "execution_count": 1,
   "id": "e058921b",
   "metadata": {},
   "outputs": [],
   "source": [
    "import qiskit.tools.jupyter\n",
    "from qiskit import IBMQ\n",
    "from qiskit.visualization import plot_histogram\n",
    "from qiskit import QuantumCircuit\n",
    "from qiskit import execute\n",
    "import numpy as np\n",
    "import matplotlib.pyplot as plt\n",
    "from qiskit.tools.visualization import circuit_drawer"
   ]
  },
  {
   "cell_type": "code",
   "execution_count": 2,
   "id": "fecc74cc",
   "metadata": {},
   "outputs": [
    {
     "name": "stdout",
     "output_type": "stream",
     "text": [
      "<AccountProvider for IBMQ(hub='ibm-q', group='open', project='main')>\n"
     ]
    },
    {
     "data": {
      "text/plain": [
       "[<IBMQSimulator('ibmq_qasm_simulator') from IBMQ(hub='ibm-q', group='open', project='main')>,\n",
       " <IBMQBackend('ibmq_armonk') from IBMQ(hub='ibm-q', group='open', project='main')>,\n",
       " <IBMQBackend('ibmq_santiago') from IBMQ(hub='ibm-q', group='open', project='main')>,\n",
       " <IBMQBackend('ibmq_bogota') from IBMQ(hub='ibm-q', group='open', project='main')>,\n",
       " <IBMQBackend('ibmq_lima') from IBMQ(hub='ibm-q', group='open', project='main')>,\n",
       " <IBMQBackend('ibmq_belem') from IBMQ(hub='ibm-q', group='open', project='main')>,\n",
       " <IBMQBackend('ibmq_quito') from IBMQ(hub='ibm-q', group='open', project='main')>,\n",
       " <IBMQSimulator('simulator_statevector') from IBMQ(hub='ibm-q', group='open', project='main')>,\n",
       " <IBMQSimulator('simulator_mps') from IBMQ(hub='ibm-q', group='open', project='main')>,\n",
       " <IBMQSimulator('simulator_extended_stabilizer') from IBMQ(hub='ibm-q', group='open', project='main')>,\n",
       " <IBMQSimulator('simulator_stabilizer') from IBMQ(hub='ibm-q', group='open', project='main')>,\n",
       " <IBMQBackend('ibmq_manila') from IBMQ(hub='ibm-q', group='open', project='main')>]"
      ]
     },
     "execution_count": 2,
     "metadata": {},
     "output_type": "execute_result"
    }
   ],
   "source": [
    "IBMQ.save_account('ID',overwrite=True)\n",
    "IBMQ.load_account()\n",
    "provider = IBMQ.get_provider(hub='ibm-q')\n",
    "print(provider)\n",
    "provider.backends()"
   ]
  },
  {
   "cell_type": "code",
   "execution_count": 3,
   "id": "97f38356",
   "metadata": {},
   "outputs": [
    {
     "data": {
      "application/vnd.jupyter.widget-view+json": {
       "model_id": "f56dafd8244845d4a3c0c669512130aa",
       "version_major": 2,
       "version_minor": 0
      },
      "text/plain": [
       "VBox(children=(HTML(value=\"<h1 style='color:#ffffff;background-color:#000000;padding-top: 1%;padding-bottom: 1…"
      ]
     },
     "metadata": {},
     "output_type": "display_data"
    },
    {
     "data": {
      "text/plain": [
       "<IBMQSimulator('ibmq_qasm_simulator') from IBMQ(hub='ibm-q', group='open', project='main')>"
      ]
     },
     "execution_count": 3,
     "metadata": {},
     "output_type": "execute_result"
    }
   ],
   "source": [
    "device1 = provider.get_backend('ibmq_qasm_simulator')\n",
    "device1"
   ]
  },
  {
   "cell_type": "code",
   "execution_count": 11,
   "id": "6ed2949c",
   "metadata": {},
   "outputs": [],
   "source": [
    "devicename='ibmq_qasm_simulator'\n",
    "device = provider.get_backend(devicename)"
   ]
  },
  {
   "cell_type": "code",
   "execution_count": 12,
   "id": "a95a00bd",
   "metadata": {},
   "outputs": [],
   "source": [
    "#%matplotlib inline\n",
    "times=75\n",
    "jobs = []\n",
    "for i in range(4):\n",
    "    qcs=[]\n",
    "    qc = QuantumCircuit(2, 2)\n",
    "    qc.h(0)\n",
    "    qc.cx(0,1)\n",
    "    qc.barrier()\n",
    "    if i%2==0:\n",
    "        qc.h(0)\n",
    "    qc.s(1)\n",
    "    qc.h(1)\n",
    "    if i%4<=1:\n",
    "        qc.t(1)\n",
    "    else:\n",
    "        qc.tdg(1)\n",
    "    qc.h(1)\n",
    "    qc.barrier()\n",
    "    qc.measure([0, 1], [0, 1])\n",
    "    circuit_drawer(qc, output='latex_source', style={'backgroundcolor': '#EEEEEE'})\n",
    "    #qc.draw(output='mpl')\n",
    "    for j in range(times):\n",
    "        qcs.append(qc)\n",
    "    job = execute(qcs, backend=device, shots=8192, optimization_level=0)\n",
    "    #print(job.job_id())\n",
    "    jobs.append(job)"
   ]
  },
  {
   "cell_type": "code",
   "execution_count": 13,
   "id": "642dfef7",
   "metadata": {},
   "outputs": [
    {
     "name": "stdout",
     "output_type": "stream",
     "text": [
      "6153e54142b4927cef9e920e\n",
      "JobStatus.DONE\n",
      "6153e543843af57346d6b567\n",
      "JobStatus.DONE\n",
      "6153e5452b538f17584bf185\n",
      "JobStatus.DONE\n",
      "6153e547ba830e390f4110ef\n",
      "JobStatus.RUNNING\n"
     ]
    }
   ],
   "source": [
    "for i in range(4):\n",
    "    print(jobs[i].job_id())\n",
    "    print(jobs[i].status())"
   ]
  },
  {
   "cell_type": "code",
   "execution_count": 14,
   "id": "605c7ee6",
   "metadata": {},
   "outputs": [],
   "source": [
    "result = [[0 for i in range(4)]for i in range(4)]\n",
    "for i in range(4):\n",
    "    results = jobs[i].result()\n",
    "    for j in range(len(results.results)):\n",
    "        count=results.get_counts(j)\n",
    "        for k,item in enumerate(count.values()):\n",
    "            result[i][k]+=item"
   ]
  },
  {
   "cell_type": "code",
   "execution_count": 15,
   "id": "c890a152",
   "metadata": {},
   "outputs": [
    {
     "name": "stdout",
     "output_type": "stream",
     "text": [
      "0.7069856770833334\n",
      "0.7077799479166667\n",
      "-0.7087532552083333\n",
      "0.7055208333333334\n",
      "IMB Q: 2.829039713541667\n",
      "Theory: 2.8284271247461903\n"
     ]
    }
   ],
   "source": [
    "S = 0\n",
    "for i in range(4):\n",
    "    print((result[i][0]-result[i][1]-result[i][2]+result[i][3])/np.sum(result[i]))\n",
    "    if i % 4 != 2:\n",
    "        S+=(result[i][0]-result[i][1]-result[i][2]+result[i][3])/np.sum(result[i])\n",
    "    else:\n",
    "        S-=(result[i][0]-result[i][1]-result[i][2]+result[i][3])/np.sum(result[i])\n",
    "print('IMB Q:',S)\n",
    "print('Theory:',2*np.sqrt(2))"
   ]
  },
  {
   "cell_type": "code",
   "execution_count": 16,
   "id": "f56a85ae",
   "metadata": {},
   "outputs": [
    {
     "name": "stderr",
     "output_type": "stream",
     "text": [
      "d:\\users\\admin\\anaconda3\\envs\\qiskit\\lib\\site-packages\\ipykernel_launcher.py:18: UserWarning: Matplotlib is currently using module://matplotlib_inline.backend_inline, which is a non-GUI backend, so cannot show the figure.\n"
     ]
    },
    {
     "data": {
      "image/png": "[encoded data removed]",
      "text/plain": [
       "<Figure size 432x288 with 4 Axes>"
      ]
     },
     "metadata": {
      "needs_background": "light"
     },
     "output_type": "display_data"
    }
   ],
   "source": [
    "result=np.array(result)\n",
    "fig, ax=plt.subplots(2,2)\n",
    "titles=['x,x+z','z,x+z','x,x-z','z,x-z']\n",
    "S=0\n",
    "for i in range(4):\n",
    "    ans=(result[i][0]-result[i][1]-result[i][2]+result[i][3])/np.sum(result[i])\n",
    "    if i % 4 != 2:\n",
    "        S+=ans\n",
    "    else:\n",
    "        S-=ans\n",
    "    ans=round(ans,3)\n",
    "    ax[i//2][i%2].bar(['00','01','10','11'],result[i]/np.sum(result[i]))\n",
    "    ax[i//2][i%2].title.set_text(titles[i]+' Exp='+str(ans))\n",
    "S=round(S,3)\n",
    "fig.suptitle(devicename+' Exp='+str(S),fontsize=18,fontweight =\"bold\")\n",
    "fig.tight_layout()\n",
    "fig.savefig(devicename+\"_prob.png\")\n",
    "fig.show()"
   ]
  },
  {
   "cell_type": "code",
   "execution_count": 17,
   "id": "49c5ed2e",
   "metadata": {},
   "outputs": [
    {
     "name": "stderr",
     "output_type": "stream",
     "text": [
      "d:\\users\\admin\\anaconda3\\envs\\qiskit\\lib\\site-packages\\ipykernel_launcher.py:18: UserWarning: Matplotlib is currently using module://matplotlib_inline.backend_inline, which is a non-GUI backend, so cannot show the figure.\n"
     ]
    },
    {
     "data": {
      "image/png": "[encoded data removed]",
      "text/plain": [
       "<Figure size 432x288 with 4 Axes>"
      ]
     },
     "metadata": {
      "needs_background": "light"
     },
     "output_type": "display_data"
    }
   ],
   "source": [
    "result=np.array(result)\n",
    "fig, ax=plt.subplots(2,2)\n",
    "titles=['x,x+z','z,x+z','x,x-z','z,x-z']\n",
    "S=0\n",
    "for i in range(4):\n",
    "    ans=(result[i][0]-result[i][1]-result[i][2]+result[i][3])/np.sum(result[i])\n",
    "    if i % 4 != 2:\n",
    "        S+=ans\n",
    "    else:\n",
    "        S-=ans\n",
    "    ans=round(ans,3)\n",
    "    ax[i//2][i%2].bar(['00','01','10','11'],result[i])\n",
    "    ax[i//2][i%2].title.set_text(titles[i]+' Exp='+str(ans))\n",
    "S=round(S,3)\n",
    "fig.suptitle(devicename+' Exp='+str(S),fontsize=18,fontweight =\"bold\")\n",
    "fig.tight_layout()\n",
    "fig.savefig(devicename+\"_num.png\")\n",
    "fig.show()"
   ]
  },
  {
   "cell_type": "markdown",
   "id": "478541bc",
   "metadata": {},
   "source": [
    "## Load job"
   ]
  },
  {
   "cell_type": "code",
   "execution_count": 18,
   "id": "f382a429",
   "metadata": {},
   "outputs": [
    {
     "name": "stdout",
     "output_type": "stream",
     "text": [
      "6153e54142b4927cef9e920e\n",
      "JobStatus.DONE\n",
      "6153e543843af57346d6b567\n",
      "JobStatus.DONE\n",
      "6153e5452b538f17584bf185\n",
      "JobStatus.DONE\n",
      "6153e547ba830e390f4110ef\n",
      "JobStatus.DONE\n"
     ]
    }
   ],
   "source": [
    "devicename='ibmq_qasm_simulator'\n",
    "jobdevice = provider.get_backend(devicename)\n",
    "jobs=[]\n",
    "jobid = ['6153e54142b4927cef9e920e','6153e543843af57346d6b567','6153e5452b538f17584bf185','6153e547ba830e390f4110ef']\n",
    "for i in range(4):\n",
    "    jobs.append(jobdevice.retrieve_job(jobid[i]))\n",
    "    print(jobs[i].job_id())\n",
    "    print(jobs[i].status())"
   ]
  },
  {
   "cell_type": "code",
   "execution_count": null,
   "id": "d71fbbf7",
   "metadata": {},
   "outputs": [],
   "source": []
  }
 ],
 "metadata": {
  "kernelspec": {
   "display_name": "Python 3 (ipykernel)",
   "language": "python",
   "name": "python3"
  },
  "language_info": {
   "codemirror_mode": {
    "name": "ipython",
    "version": 3
   },
   "file_extension": ".py",
   "mimetype": "text/x-python",
   "name": "python",
   "nbconvert_exporter": "python",
   "pygments_lexer": "ipython3",
   "version": "3.7.11"
  },
  "widgets": {
   "application/vnd.jupyter.widget-state+json": {
    "state": {
     "074fa00d463644b88ab176032ea0479a": {
      "model_module": "@jupyter-widgets/controls",
      "model_module_version": "1.5.0",
      "model_name": "TabModel",
      "state": {
       "layout": "IPY_MODEL_fbc7fb58f2904772bb99ef4558c7dc32"
      }
     },
     "0a090ac216374eb69cb2a68f23f28577": {
      "model_module": "@jupyter-widgets/controls",
      "model_module_version": "1.5.0",
      "model_name": "DescriptionStyleModel",
      "state": {
       "description_width": ""
      }
     },
     "0ad2c3b7a7d4406b955099b42fdc1bd2": {
      "model_module": "@jupyter-widgets/controls",
      "model_module_version": "1.5.0",
      "model_name": "ButtonStyleModel",
      "state": {}
     },
     "0b949bb707794c98bdc51b82c5ed152a": {
      "model_module": "@jupyter-widgets/base",
      "model_module_version": "1.2.0",
      "model_name": "LayoutModel",
      "state": {
       "align_items": "center",
       "display": "flex-inline",
       "grid_area": "right",
       "max_height": "325px",
       "padding": "10px 10px 10px 10px",
       "width": "auto"
      }
     },
     "0cd9d8beb28e4f7c841a501950cd628a": {
      "model_module": "@jupyter-widgets/base",
      "model_module_version": "1.2.0",
      "model_name": "LayoutModel",
      "state": {
       "grid_area": "top"
      }
     },
     "0d94ada4660f41ffab327d2b3129bde9": {
      "model_module": "@jupyter-widgets/controls",
      "model_module_version": "1.5.0",
      "model_name": "HTMLModel",
      "state": {
       "layout": "IPY_MODEL_11ab9062723247fe912ee3cf3b86ae59",
       "style": "IPY_MODEL_23d20f354fb547668a7180f82d36b0f5",
       "value": "<h5>Backend</h5>"
      }
     },
     "0f1c60d9634b4ebbb82f2104d502e029": {
      "model_module": "@jupyter-widgets/controls",
      "model_module_version": "1.5.0",
      "model_name": "DescriptionStyleModel",
      "state": {
       "description_width": ""
      }
     },
     "11ab9062723247fe912ee3cf3b86ae59": {
      "model_module": "@jupyter-widgets/base",
      "model_module_version": "1.2.0",
      "model_name": "LayoutModel",
      "state": {
       "width": "145px"
      }
     },
     "16433a74ae4d4b368f74a54569ca4583": {
      "model_module": "@jupyter-widgets/controls",
      "model_module_version": "1.5.0",
      "model_name": "DescriptionStyleModel",
      "state": {
       "description_width": ""
      }
     },
     "1e8140f0c25b4c0cae2b1dd14ba2b865": {
      "model_module": "@jupyter-widgets/controls",
      "model_module_version": "1.5.0",
      "model_name": "DescriptionStyleModel",
      "state": {
       "description_width": ""
      }
     },
     "206fa8c4ab6c4093be4811cf29727f22": {
      "model_module": "@jupyter-widgets/base",
      "model_module_version": "1.2.0",
      "model_name": "LayoutModel",
      "state": {
       "grid_area": "left"
      }
     },
     "23aaeb23a49540fda0b728d670c49e87": {
      "model_module": "@jupyter-widgets/controls",
      "model_module_version": "1.5.0",
      "model_name": "DescriptionStyleModel",
      "state": {
       "description_width": ""
      }
     },
     "23d20f354fb547668a7180f82d36b0f5": {
      "model_module": "@jupyter-widgets/controls",
      "model_module_version": "1.5.0",
      "model_name": "DescriptionStyleModel",
      "state": {
       "description_width": ""
      }
     },
     "2922be5d0bd7401fb877d6b86d560958": {
      "model_module": "@jupyter-widgets/output",
      "model_module_version": "1.0.0",
      "model_name": "OutputModel",
      "state": {
       "layout": "IPY_MODEL_84a696e2856643f4b078fc84a3b38e66",
       "outputs": [
        {
         "data": {
          "image/png": "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\n",
          "text/plain": "<Figure size 360x360 with 1 Axes>"
         },
         "metadata": {},
         "output_type": "display_data"
        }
       ]
      }
     },
     "2e062653145f42b3b901861e71b7e003": {
      "model_module": "@jupyter-widgets/controls",
      "model_module_version": "1.5.0",
      "model_name": "HTMLModel",
      "state": {
       "layout": "IPY_MODEL_b2fc8ec57b444729bde785de3cb2a3ee",
       "style": "IPY_MODEL_23aaeb23a49540fda0b728d670c49e87",
       "value": "<div><font style='font-weight:bold'>last_update_date</font>: Sat 11 September 2021 at 04:31 UTC</div>"
      }
     },
     "2ed48962c50e4d21851443202fde0bb9": {
      "model_module": "@jupyter-widgets/controls",
      "model_module_version": "1.5.0",
      "model_name": "HTMLMathModel",
      "state": {
       "layout": "IPY_MODEL_fd6e23c2d4b143749dd75d0c17edccfb",
       "style": "IPY_MODEL_cb0630361c734dd3a419ed78f4b70a0d",
       "value": "<table><style>\ntable {\n    border-collapse: collapse;\n    width: auto;\n}\n\nth, td {\n    text-align: left;\n    padding: 8px;\n}\n\ntr:nth-child(even) {background-color: #f6f6f6;}\n</style><tr><th></th><th></th></tr><tr><td>memory</td><td>True</td></tr><tr><td>coupling_map</td><td>None</td></tr><tr><td>online_date</td><td>2019-05-02 08:15:00+00:00</td></tr><tr><td>allow_q_object</td><td>True</td></tr><tr><td>input_allowed</td><td>['job', 'runtime']</td></tr><tr><td>pulse_num_qubits</td><td>3</td></tr><tr><td>conditional</td><td>True</td></tr><tr><td>allow_object_storage</td><td>True</td></tr><tr><td>open_pulse</td><td>False</td></tr><tr><td>simulator</td><td>True</td></tr><tr><td>dynamic_reprate_enabled</td><td>False</td></tr><tr><td>pulse_num_channels</td><td>9</td></tr><tr><td>backend_name</td><td>ibmq_qasm_simulator</td></tr><tr><td>local</td><td>False</td></tr></table>"
      }
     },
     "2f9fe0aa78674301ad1fa3b51471cc69": {
      "model_module": "@jupyter-widgets/controls",
      "model_module_version": "1.5.0",
      "model_name": "HBoxModel",
      "state": {
       "children": [
        "IPY_MODEL_631cc536ae184acf992770b635392a85",
        "IPY_MODEL_0d94ada4660f41ffab327d2b3129bde9",
        "IPY_MODEL_c8dbd8d1edf4424d85ee4168c004d986",
        "IPY_MODEL_49244d930ec147a9a5333ec2b6b66636",
        "IPY_MODEL_6bc83fd2a6bf419fbce93b462f847892"
       ],
       "layout": "IPY_MODEL_9b4fc27f9d754fc78c6d2e9bd6edcb1a"
      }
     },
     "3878cf3ca36f4238a219fe350e1d0880": {
      "model_module": "@jupyter-widgets/controls",
      "model_module_version": "1.5.0",
      "model_name": "GridBoxModel",
      "state": {
       "children": [
        "IPY_MODEL_a42824469d9649fbbd1eb57346350bcc",
        "IPY_MODEL_2922be5d0bd7401fb877d6b86d560958",
        "IPY_MODEL_b13f17984c834cc6bd3c6ddf7fae7e26"
       ],
       "layout": "IPY_MODEL_d4a442900ac2460c8ddd7d6f87982d9b"
      }
     },
     "395e841216414fe69c0882668dd2f15a": {
      "model_module": "@jupyter-widgets/base",
      "model_module_version": "1.2.0",
      "model_name": "LayoutModel",
      "state": {
       "grid_area": "middle"
      }
     },
     "3a0bdad430c847ca85022fec578ad6ee": {
      "model_module": "@jupyter-widgets/base",
      "model_module_version": "1.2.0",
      "model_name": "LayoutModel",
      "state": {
       "overflow_y": "scroll"
      }
     },
     "3aa4e024c1d746778e564552edeae92f": {
      "model_module": "@jupyter-widgets/base",
      "model_module_version": "1.2.0",
      "model_name": "LayoutModel",
      "state": {
       "max_height": "620px"
      }
     },
     "3cf30657398e4e9e9adc7293f8dd78e0": {
      "model_module": "@jupyter-widgets/controls",
      "model_module_version": "1.5.0",
      "model_name": "DescriptionStyleModel",
      "state": {
       "description_width": ""
      }
     },
     "40bac05b3d9f4fcbb7b8039f6e038abf": {
      "model_module": "@jupyter-widgets/base",
      "model_module_version": "1.2.0",
      "model_name": "LayoutModel",
      "state": {
       "border": "4px solid #000000",
       "max_height": "650px",
       "min_height": "650px",
       "overflow_y": "hidden"
      }
     },
     "420ae5e300d34c3fad3cc6e8efcdea07": {
      "model_module": "@jupyter-widgets/controls",
      "model_module_version": "1.5.0",
      "model_name": "VBoxModel",
      "state": {
       "children": [
        "IPY_MODEL_a5411caee7b2425dbe17df10a341f166",
        "IPY_MODEL_84b8dfbb81bd4efbb1373e44b262fbbd"
       ],
       "layout": "IPY_MODEL_40bac05b3d9f4fcbb7b8039f6e038abf"
      }
     },
     "4230e09372d542f8991ebfab5c29fe76": {
      "model_module": "@jupyter-widgets/base",
      "model_module_version": "1.2.0",
      "model_name": "LayoutModel",
      "state": {
       "border": "4px solid #000000",
       "max_height": "650px",
       "min_height": "650px",
       "overflow_y": "hidden"
      }
     },
     "423d3c4d4ba24a588199d66553ce814f": {
      "model_module": "@jupyter-widgets/controls",
      "model_module_version": "1.5.0",
      "model_name": "GridBoxModel",
      "state": {
       "children": [
        "IPY_MODEL_a46ad6882605485ebeef0ce6f59c7827",
        "IPY_MODEL_88b532a8681743c49adf8ca061ba552d",
        "IPY_MODEL_b523360ac47a4ef19f95a730873bc43d",
        "IPY_MODEL_f7b8f8612815447985c69831a6e5973b"
       ],
       "layout": "IPY_MODEL_546640cd66b54e53955b70aa4adcfeaa"
      }
     },
     "4656a2f8eb7249afbba92905c62f4493": {
      "model_module": "@jupyter-widgets/controls",
      "model_module_version": "1.5.0",
      "model_name": "DescriptionStyleModel",
      "state": {
       "description_width": ""
      }
     },
     "46f6879cf0ee49f394cce1ed53077383": {
      "model_module": "@jupyter-widgets/controls",
      "model_module_version": "1.5.0",
      "model_name": "DescriptionStyleModel",
      "state": {
       "description_width": ""
      }
     },
     "477c21037d0f4e52ab9e2bd50952b764": {
      "model_module": "@jupyter-widgets/base",
      "model_module_version": "1.2.0",
      "model_name": "LayoutModel",
      "state": {
       "width": "95px"
      }
     },
     "49244d930ec147a9a5333ec2b6b66636": {
      "model_module": "@jupyter-widgets/controls",
      "model_module_version": "1.5.0",
      "model_name": "HTMLModel",
      "state": {
       "layout": "IPY_MODEL_4e54386ddce74e949c382ce3361a507e",
       "style": "IPY_MODEL_db863c89cec8465f83937aa6a95de5fd",
       "value": "<h5>Queue</h5>"
      }
     },
     "4e54386ddce74e949c382ce3361a507e": {
      "model_module": "@jupyter-widgets/base",
      "model_module_version": "1.2.0",
      "model_name": "LayoutModel",
      "state": {
       "width": "70px"
      }
     },
     "4e7410e32f0b485590338a59ebaafd2a": {
      "model_module": "@jupyter-widgets/base",
      "model_module_version": "1.2.0",
      "model_name": "LayoutModel",
      "state": {
       "width": "190px"
      }
     },
     "50281d3ad35e4976b8113f49bfad922a": {
      "model_module": "@jupyter-widgets/base",
      "model_module_version": "1.2.0",
      "model_name": "LayoutModel",
      "state": {
       "margin": "0px 0px 0px 0px"
      }
     },
     "52b7c25004464907bcfa216389e3bd77": {
      "model_module": "@jupyter-widgets/controls",
      "model_module_version": "1.5.0",
      "model_name": "HTMLModel",
      "state": {
       "layout": "IPY_MODEL_cb94ea3dbf4148e3adade7deb7a4946f",
       "style": "IPY_MODEL_9b9acbbb3c354c53adcc8a743b494fb9",
       "value": "<p style='font-family: IBM Plex Sans, Arial, Helvetica, sans-serif; font-size: 20px; font-weight: medium;'>Circuit Properties</p>"
      }
     },
     "545346497bc64dea8966e07920faac75": {
      "model_module": "@jupyter-widgets/controls",
      "model_module_version": "1.5.0",
      "model_name": "DescriptionStyleModel",
      "state": {
       "description_width": ""
      }
     },
     "546640cd66b54e53955b70aa4adcfeaa": {
      "model_module": "@jupyter-widgets/base",
      "model_module_version": "1.2.0",
      "model_name": "LayoutModel",
      "state": {
       "grid_gap": "0px 0px",
       "grid_template_areas": "\n                                                   \"top top top\"\n                                                   \"left middle right\"\n                                                   ",
       "grid_template_columns": "33% 33% 33%",
       "grid_template_rows": "auto auto"
      }
     },
     "59fa04132f61400e81cf7744ab366ab5": {
      "model_module": "@jupyter-widgets/controls",
      "model_module_version": "1.5.0",
      "model_name": "DescriptionStyleModel",
      "state": {
       "description_width": ""
      }
     },
     "5d9ccf41a53041cba88a29e61a2c29d9": {
      "model_module": "@jupyter-widgets/controls",
      "model_module_version": "1.5.0",
      "model_name": "ButtonModel",
      "state": {
       "button_style": "primary",
       "description": "Clear",
       "layout": "IPY_MODEL_b928f90c6ace4365bf9dcc32e3fbdaaf",
       "style": "IPY_MODEL_0ad2c3b7a7d4406b955099b42fdc1bd2"
      }
     },
     "6025c992370b4df7a747d066d0f2bec3": {
      "model_module": "@jupyter-widgets/controls",
      "model_module_version": "1.5.0",
      "model_name": "HTMLModel",
      "state": {
       "layout": "IPY_MODEL_760e6e20e8c24814a710e01a9feccacd",
       "style": "IPY_MODEL_f7ee6d66ea424137ad3af30fbf8f6681",
       "value": "<table><style>\ntable {\n    border-collapse: collapse;\n    width: auto;\n}\n\nth, td {\n    text-align: left;\n    padding: 8px;\n}\n\ntr:nth-child(even) {background-color: #f6f6f6;}\n</style><tr><th></th><th>Frequency</th><th>T1</th><th>T2</th><th>RZ</th><th>SX</th><th>X</th><th>Readout error</th></tr><tr><td><font style='font-weight:bold'>Q0</font></td><td>5.30065 GHz</td><td>66.50157 us</td><td>90.95873 us</td><td>0</td><td>0.00029</td><td>0.00029</td><td>0.041 </td><tr><td><font style='font-weight:bold'>Q1</font></td><td>5.08065 GHz</td><td>109.53372 us</td><td>20.89505 us</td><td>0</td><td>0.00078</td><td>0.00078</td><td>0.0641 </td><tr><td><font style='font-weight:bold'>Q2</font></td><td>5.32203 GHz</td><td>89.86018 us</td><td>130.95485 us</td><td>0</td><td>0.00028</td><td>0.00028</td><td>0.0233 </td><tr><td><font style='font-weight:bold'>Q3</font></td><td>5.16362 GHz</td><td>95.49706 us</td><td>22.67036 us</td><td>0</td><td>0.00029</td><td>0.00029</td><td>0.0231 </td><tr><td><font style='font-weight:bold'>Q4</font></td><td>5.0524 GHz</td><td>139.88745 us</td><td>151.4795 us</td><td>0</td><td>0.0002</td><td>0.0002</td><td>0.0185 </td></table>"
      }
     },
     "61470c89fa3f489f925f6b9473d5d4f3": {
      "model_module": "@jupyter-widgets/output",
      "model_module_version": "1.0.0",
      "model_name": "OutputModel",
      "state": {
       "layout": "IPY_MODEL_0b949bb707794c98bdc51b82c5ed152a"
      }
     },
     "6201101f35e744c882b4380c7c709bba": {
      "model_module": "@jupyter-widgets/base",
      "model_module_version": "1.2.0",
      "model_name": "LayoutModel",
      "state": {
       "grid_template_areas": "\n                                       \". . . . right \"\n                                        ",
       "grid_template_columns": "20% 20% 20% 20% 20%",
       "width": "100%"
      }
     },
     "631cc536ae184acf992770b635392a85": {
      "model_module": "@jupyter-widgets/controls",
      "model_module_version": "1.5.0",
      "model_name": "HTMLModel",
      "state": {
       "layout": "IPY_MODEL_4e7410e32f0b485590338a59ebaafd2a",
       "style": "IPY_MODEL_79031d0e627d4d3db05d8de8770ef0ce",
       "value": "<h5>Job ID</h5>"
      }
     },
     "68eaf27ee27e40dd9245ac145e74157d": {
      "model_module": "@jupyter-widgets/controls",
      "model_module_version": "1.5.0",
      "model_name": "HTMLModel",
      "state": {
       "layout": "IPY_MODEL_50281d3ad35e4976b8113f49bfad922a",
       "style": "IPY_MODEL_16433a74ae4d4b368f74a54569ca4583",
       "value": "<h1 style='color:#ffffff;background-color:#000000;padding-top: 1%;padding-bottom: 1%;padding-left: 1%; margin-top: 0px'>ibmq_qasm_simulator</h1>"
      }
     },
     "6bc83fd2a6bf419fbce93b462f847892": {
      "model_module": "@jupyter-widgets/controls",
      "model_module_version": "1.5.0",
      "model_name": "HTMLModel",
      "state": {
       "layout": "IPY_MODEL_cc432402f20a4ccf808502efeec05c8b",
       "style": "IPY_MODEL_1e8140f0c25b4c0cae2b1dd14ba2b865",
       "value": "<h5>Message</h5>"
      }
     },
     "6f0695c932ca495ba2b8da1b880a8ab8": {
      "model_module": "@jupyter-widgets/controls",
      "model_module_version": "1.5.0",
      "model_name": "GridBoxModel",
      "state": {
       "children": [
        "IPY_MODEL_5d9ccf41a53041cba88a29e61a2c29d9"
       ],
       "layout": "IPY_MODEL_6201101f35e744c882b4380c7c709bba"
      }
     },
     "746b2dccadfb4af5ac3ebf1eec0673d2": {
      "model_module": "@jupyter-widgets/controls",
      "model_module_version": "1.5.0",
      "model_name": "ButtonModel",
      "state": {
       "icon": "close",
       "layout": "IPY_MODEL_edfccc12528140fab3273c3830c963ab",
       "style": "IPY_MODEL_cbf40e4a53e44d42b7a94cdf2f82fbac"
      }
     },
     "760e6e20e8c24814a710e01a9feccacd": {
      "model_module": "@jupyter-widgets/base",
      "model_module_version": "1.2.0",
      "model_name": "LayoutModel",
      "state": {}
     },
     "79031d0e627d4d3db05d8de8770ef0ce": {
      "model_module": "@jupyter-widgets/controls",
      "model_module_version": "1.5.0",
      "model_name": "DescriptionStyleModel",
      "state": {
       "description_width": ""
      }
     },
     "7c1bd3a4311944afa7518d58d8e7dc1e": {
      "model_module": "@jupyter-widgets/base",
      "model_module_version": "1.2.0",
      "model_name": "LayoutModel",
      "state": {
       "align_items": "center",
       "display": "flex-inline"
      }
     },
     "7d5734917a1f4a488193c010cb394c67": {
      "model_module": "@jupyter-widgets/base",
      "model_module_version": "1.2.0",
      "model_name": "LayoutModel",
      "state": {
       "grid_gap": "0px 0px",
       "grid_template_areas": "\n                               \"left right right right\"\n                               \"bottom bottom bottom bottom\"\n                               ",
       "grid_template_columns": "31% 23% 23% 23%",
       "grid_template_rows": "auto auto"
      }
     },
     "84a696e2856643f4b078fc84a3b38e66": {
      "model_module": "@jupyter-widgets/base",
      "model_module_version": "1.2.0",
      "model_name": "LayoutModel",
      "state": {
       "align_items": "center",
       "display": "flex-inline",
       "grid_area": "right",
       "max_height": "325px",
       "padding": "10px 10px 10px 10px",
       "width": "auto"
      }
     },
     "84b8dfbb81bd4efbb1373e44b262fbbd": {
      "model_module": "@jupyter-widgets/controls",
      "model_module_version": "1.5.0",
      "model_name": "TabModel",
      "state": {
       "_titles": {
        "0": "Configuration",
        "1": "Qubit Properties",
        "2": "Multi-Qubit Gates",
        "3": "Error Map",
        "4": "Job History"
       },
       "children": [
        "IPY_MODEL_3878cf3ca36f4238a219fe350e1d0880",
        "IPY_MODEL_bd0108399f9044379261c4cb59c8f2f4",
        "IPY_MODEL_423d3c4d4ba24a588199d66553ce814f",
        "IPY_MODEL_be72d89bcd044e7d95d18cde60e8a441",
        "IPY_MODEL_9607799bf419415eba0d40bf70aeb048"
       ],
       "layout": "IPY_MODEL_fbb7d61879ad4ad49e88a399794de237"
      }
     },
     "84dfb42eef42403182f1592e980c2fbc": {
      "model_module": "@jupyter-widgets/controls",
      "model_module_version": "1.5.0",
      "model_name": "TabModel",
      "state": {
       "_titles": {
        "0": "Configuration"
       },
       "children": [
        "IPY_MODEL_a39c9abdb4c64a93886c4beabad74e44"
       ],
       "layout": "IPY_MODEL_3a0bdad430c847ca85022fec578ad6ee"
      }
     },
     "8698dbbb12654de5b4072baece58e957": {
      "model_module": "@jupyter-widgets/base",
      "model_module_version": "1.2.0",
      "model_name": "LayoutModel",
      "state": {
       "width": "95px"
      }
     },
     "86d4c5ee13fd42cd8ab420d70b48de32": {
      "model_module": "@jupyter-widgets/controls",
      "model_module_version": "1.5.0",
      "model_name": "HTMLModel",
      "state": {
       "layout": "IPY_MODEL_ddd9ba6b410a45d48d37be9806a5ad69",
       "style": "IPY_MODEL_f40d5aeafa5e4d7783431458acf86575",
       "value": "613c625a4428ec308df184d4"
      }
     },
     "88b532a8681743c49adf8ca061ba552d": {
      "model_module": "@jupyter-widgets/controls",
      "model_module_version": "1.5.0",
      "model_name": "HTMLModel",
      "state": {
       "layout": "IPY_MODEL_206fa8c4ab6c4093be4811cf29727f22",
       "style": "IPY_MODEL_cbb56418706e424c8a53e0274b300ef0",
       "value": "<table><style>\ntable {\n    border-collapse: collapse;\n    width: auto;\n}\n\nth, td {\n    text-align: left;\n    padding: 8px;\n}\n\ntr:nth-child(even) {background-color: #f6f6f6;};\n</style><tr><th></th><th>Type</th><th>Gate error</th></tr><tr><td><font style='font-weight:bold'>cx3_4</font></td><td>cx</td><td>0.02116</td></tr><tr><td><font style='font-weight:bold'>cx4_3</font></td><td>cx</td><td>0.02116</td></tr><tr><td><font style='font-weight:bold'>cx1_3</font></td><td>cx</td><td>0.01815</td></tr></table>"
      }
     },
     "90bd159bfd00495c89ebdaad8ce5d515": {
      "model_module": "@jupyter-widgets/controls",
      "model_module_version": "1.5.0",
      "model_name": "HTMLMathModel",
      "state": {
       "layout": "IPY_MODEL_cde72deeb7eb497e9e6286d0f7f22810",
       "style": "IPY_MODEL_46f6879cf0ee49f394cce1ed53077383",
       "value": "<table><style>\ntable {\n    border-collapse: collapse;\n    width: auto;\n}\n\nth, td {\n    text-align: left;\n    padding: 8px;\n}\n\ntr:nth-child(even) {background-color: #f6f6f6;}\n</style><tr><th>Property</th><th>Value</th></tr><tr><td><font style='font-weight:bold'>n_qubits</font></td><td>32</td></tr><tr><td><font style='font-weight:bold'>operational</font></td><td>True</td></tr><tr><td><font style='font-weight:bold'>status_msg</font></td><td>active</td></tr><tr><td><font style='font-weight:bold'>pending_jobs</font></td><td>3</td></tr><tr><td><font style='font-weight:bold'>backend_version</font></td><td>0.1.547</td></tr><tr><td><font style='font-weight:bold'>basis_gates</font></td><td>['u1', 'u2', 'u3', 'u', 'p', 'r', 'rx', 'ry', 'rz', 'id', 'x', 'y', 'z', 'h', 's', 'sdg', 'sx', 't', 'tdg', 'swap', 'cx', 'cy', 'cz', 'csx', 'cp', 'cu1', 'cu2', 'cu3', 'rxx', 'ryy', 'rzz', 'rzx', 'ccx', 'cswap', 'mcx', 'mcy', 'mcz', 'mcsx', 'mcp', 'mcu1', 'mcu2', 'mcu3', 'mcrx', 'mcry', 'mcrz', 'mcr', 'mcswap', 'unitary', 'diagonal', 'multiplexer', 'initialize', 'kraus', 'roerror', 'delay']</td></tr><tr><td><font style='font-weight:bold'>max_shots</font></td><td>8192</td></tr><tr><td><font style='font-weight:bold'>max_experiments</font></td><td>300</td></tr></table>"
      }
     },
     "9607799bf419415eba0d40bf70aeb048": {
      "model_module": "@jupyter-widgets/controls",
      "model_module_version": "1.5.0",
      "model_name": "TabModel",
      "state": {
       "layout": "IPY_MODEL_3aa4e024c1d746778e564552edeae92f"
      }
     },
     "96904ee43ea44898a495fad657dde77c": {
      "model_module": "@jupyter-widgets/controls",
      "model_module_version": "1.5.0",
      "model_name": "HBoxModel",
      "state": {
       "children": [
        "IPY_MODEL_746b2dccadfb4af5ac3ebf1eec0673d2",
        "IPY_MODEL_86d4c5ee13fd42cd8ab420d70b48de32",
        "IPY_MODEL_c7ee34bd922641eabe0341231fe960ac",
        "IPY_MODEL_a3e3e13d360e4113b39fa99e3bfc64c3",
        "IPY_MODEL_d77f5970c881475eaa5f54d9a2b53167",
        "IPY_MODEL_e541bff92bcc4f0ab27aa4755aaf6bd3"
       ],
       "layout": "IPY_MODEL_af31e6d853ad459a9102d54bf3aac08f"
      }
     },
     "9b4fc27f9d754fc78c6d2e9bd6edcb1a": {
      "model_module": "@jupyter-widgets/base",
      "model_module_version": "1.2.0",
      "model_name": "LayoutModel",
      "state": {
       "margin": "0px 0px 0px 37px",
       "width": "600px"
      }
     },
     "9b9acbbb3c354c53adcc8a743b494fb9": {
      "model_module": "@jupyter-widgets/controls",
      "model_module_version": "1.5.0",
      "model_name": "DescriptionStyleModel",
      "state": {
       "description_width": ""
      }
     },
     "9e0cf91fc2104286a48677f10680d5d5": {
      "model_module": "@jupyter-widgets/controls",
      "model_module_version": "1.5.0",
      "model_name": "DescriptionStyleModel",
      "state": {
       "description_width": ""
      }
     },
     "9f1398225c0b4d0fba29a63cf640f908": {
      "model_module": "@jupyter-widgets/controls",
      "model_module_version": "1.5.0",
      "model_name": "DescriptionStyleModel",
      "state": {
       "description_width": ""
      }
     },
     "a39c9abdb4c64a93886c4beabad74e44": {
      "model_module": "@jupyter-widgets/controls",
      "model_module_version": "1.5.0",
      "model_name": "GridBoxModel",
      "state": {
       "children": [
        "IPY_MODEL_90bd159bfd00495c89ebdaad8ce5d515",
        "IPY_MODEL_61470c89fa3f489f925f6b9473d5d4f3",
        "IPY_MODEL_2ed48962c50e4d21851443202fde0bb9"
       ],
       "layout": "IPY_MODEL_7d5734917a1f4a488193c010cb394c67"
      }
     },
     "a3e3e13d360e4113b39fa99e3bfc64c3": {
      "model_module": "@jupyter-widgets/controls",
      "model_module_version": "1.5.0",
      "model_name": "HTMLModel",
      "state": {
       "layout": "IPY_MODEL_477c21037d0f4e52ab9e2bd50952b764",
       "style": "IPY_MODEL_9e0cf91fc2104286a48677f10680d5d5",
       "value": "<font style='color:#34BC6E'>DONE</font>"
      }
     },
     "a42824469d9649fbbd1eb57346350bcc": {
      "model_module": "@jupyter-widgets/controls",
      "model_module_version": "1.5.0",
      "model_name": "HTMLMathModel",
      "state": {
       "layout": "IPY_MODEL_cbd0f049d891437f988061a6ed032229",
       "style": "IPY_MODEL_9f1398225c0b4d0fba29a63cf640f908",
       "value": "<table><style>\ntable {\n    border-collapse: collapse;\n    width: auto;\n}\n\nth, td {\n    text-align: left;\n    padding: 8px;\n}\n\ntr:nth-child(even) {background-color: #f6f6f6;}\n</style><tr><th>Property</th><th>Value</th></tr><tr><td><font style='font-weight:bold'>n_qubits</font></td><td>5</td></tr><tr><td><font style='font-weight:bold'>quantum_volume</font></td><td>16</td></tr><tr><td><font style='font-weight:bold'>operational</font></td><td>True</td></tr><tr><td><font style='font-weight:bold'>status_msg</font></td><td>active</td></tr><tr><td><font style='font-weight:bold'>pending_jobs</font></td><td>4</td></tr><tr><td><font style='font-weight:bold'>backend_version</font></td><td>1.1.9</td></tr><tr><td><font style='font-weight:bold'>basis_gates</font></td><td>['id', 'rz', 'sx', 'x', 'cx', 'reset']</td></tr><tr><td><font style='font-weight:bold'>max_shots</font></td><td>8192</td></tr><tr><td><font style='font-weight:bold'>max_experiments</font></td><td>75</td></tr></table>"
      }
     },
     "a46ad6882605485ebeef0ce6f59c7827": {
      "model_module": "@jupyter-widgets/controls",
      "model_module_version": "1.5.0",
      "model_name": "HTMLModel",
      "state": {
       "layout": "IPY_MODEL_0cd9d8beb28e4f7c841a501950cd628a",
       "style": "IPY_MODEL_3cf30657398e4e9e9adc7293f8dd78e0",
       "value": "<div><font style='font-weight:bold'>last_update_date</font>: 2021-09-11 04:31:24+00:00</div>"
      }
     },
     "a5411caee7b2425dbe17df10a341f166": {
      "model_module": "@jupyter-widgets/controls",
      "model_module_version": "1.5.0",
      "model_name": "HTMLModel",
      "state": {
       "layout": "IPY_MODEL_c7a1b6000a8f443e9106bfe584c82c82",
       "style": "IPY_MODEL_d67b289b742d4e26bfdad71393a0e96a",
       "value": "<h1 style='color:#ffffff;background-color:#000000;padding-top: 1%;padding-bottom: 1%;padding-left: 1%; margin-top: 0px'>ibmq_quito</h1>"
      }
     },
     "af31e6d853ad459a9102d54bf3aac08f": {
      "model_module": "@jupyter-widgets/base",
      "model_module_version": "1.2.0",
      "model_name": "LayoutModel",
      "state": {
       "max_width": "700px",
       "min_width": "700px"
      }
     },
     "b13f17984c834cc6bd3c6ddf7fae7e26": {
      "model_module": "@jupyter-widgets/controls",
      "model_module_version": "1.5.0",
      "model_name": "HTMLMathModel",
      "state": {
       "layout": "IPY_MODEL_bd5b088921754a2f9601a2fc8a004570",
       "style": "IPY_MODEL_0a090ac216374eb69cb2a68f23f28577",
       "value": "<table><style>\ntable {\n    border-collapse: collapse;\n    width: auto;\n}\n\nth, td {\n    text-align: left;\n    padding: 8px;\n}\n\ntr:nth-child(even) {background-color: #f6f6f6;}\n</style><tr><th></th><th></th></tr><tr><td>memory</td><td>True</td></tr><tr><td>coupling_map</td><td>[[0, 1], [1, 0], [1, 2], [1, 3], [2, 1], [3, 1], [3, 4], [4, 3]]</td></tr><tr><td>online_date</td><td>2021-01-08 05:00:00+00:00</td></tr><tr><td>meas_lo_range</td><td>[[6.807868157000001, 7.807868157000001], [6.7292695270000005, 7.7292695270000005], [6.991060108, 7.991060108], [6.8547510460000005, 7.8547510460000005], [6.904365522000001, 7.904365522000001]]</td></tr><tr><td>description</td><td>5 qubit device Quito</td></tr><tr><td>u_channel_lo</td><td>[[{'q': 1, 'scale': (1+0j)}], [{'q': 0, 'scale': (1+0j)}], [{'q': 2, 'scale': (1+0j)}], [{'q': 3, 'scale': (1+0j)}], [{'q': 1, 'scale': (1+0j)}], [{'q': 1, 'scale': (1+0j)}], [{'q': 4, 'scale': (1+0j)}], [{'q': 3, 'scale': (1+0j)}]]</td></tr><tr><td>parametric_pulses</td><td>['gaussian', 'gaussian_square', 'drag', 'constant']</td></tr><tr><td>input_allowed</td><td>['job']</td></tr><tr><td>measure_esp_enabled</td><td>False</td></tr><tr><td>multi_meas_enabled</td><td>True</td></tr><tr><td>conditional</td><td>False</td></tr><tr><td>uchannels_enabled</td><td>True</td></tr><tr><td>n_registers</td><td>1</td></tr><tr><td>dtm</td><td>0.2222222222222222</td></tr><tr><td>qubit_channel_mapping</td><td>[['u1', 'd0', 'm0', 'u0'], ['u4', 'u2', 'u3', 'u5', 'u0', 'd1', 'u1', 'm1'], ['d2', 'u2', 'm2', 'u4'], ['d3', 'u3', 'u5', 'm3', 'u6', 'u7'], ['d4', 'u7', 'u6', 'm4']]</td></tr><tr><td>timing_constraints</td><td>{'acquire_alignment': 16, 'granularity': 16, 'min_length': 64, 'pulse_alignment': 1}</td></tr><tr><td>open_pulse</td><td>False</td></tr><tr><td>processor_type</td><td>{'family': 'Falcon', 'revision': 4, 'segment': 'T'}</td></tr><tr><td>n_uchannels</td><td>8</td></tr><tr><td>simulator</td><td>False</td></tr><tr><td>conditional_latency</td><td>[]</td></tr><tr><td>dynamic_reprate_enabled</td><td>True</td></tr><tr><td>default_rep_delay</td><td>250.0</td></tr><tr><td>rep_delay_range</td><td>[0.0, 500.0]</td></tr><tr><td>pulse_num_channels</td><td>9</td></tr><tr><td>meas_kernels</td><td>['hw_boxcar']</td></tr><tr><td>hamiltonian</td><td>$$\\begin{align} \\mathcal{H}/\\hbar = & \\sum_{i=0}^{4}\\left(\\frac{\\omega_{q,i}}{2}(\\mathbb{I}-\\sigma_i^{z})+\\frac{\\Delta_{i}}{2}(O_i^2-O_i)+\\Omega_{d,i}D_i(t)\\sigma_i^{X}\\right) \\\\ & + J_{0,1}(\\sigma_{0}^{+}\\sigma_{1}^{-}+\\sigma_{0}^{-}\\sigma_{1}^{+}) + J_{1,2}(\\sigma_{1}^{+}\\sigma_{2}^{-}+\\sigma_{1}^{-}\\sigma_{2}^{+}) + J_{1,3}(\\sigma_{1}^{+}\\sigma_{3}^{-}+\\sigma_{1}^{-}\\sigma_{3}^{+}) + J_{3,4}(\\sigma_{3}^{+}\\sigma_{4}^{-}+\\sigma_{3}^{-}\\sigma_{4}^{+}) \\\\ & + \\Omega_{d,0}(U_{0}^{(0,1)}(t))\\sigma_{0}^{X} + \\Omega_{d,1}(U_{1}^{(1,0)}(t)+U_{3}^{(1,3)}(t)+U_{2}^{(1,2)}(t))\\sigma_{1}^{X} \\\\ & + \\Omega_{d,2}(U_{4}^{(2,1)}(t))\\sigma_{2}^{X} + \\Omega_{d,3}(U_{6}^{(3,4)}(t)+U_{5}^{(3,1)}(t))\\sigma_{3}^{X} \\\\ & + \\Omega_{d,4}(U_{7}^{(4,3)}(t))\\sigma_{4}^{X} \\\\ \\end{align}$$</td></tr><tr><td>discriminators</td><td>['hw_centroid', 'linear_discriminator', 'quadratic_discriminator']</td></tr><tr><td>meas_map</td><td>[[0, 1, 2, 3, 4]]</td></tr><tr><td>allow_q_object</td><td>True</td></tr><tr><td>rep_times</td><td>[1000.0]</td></tr><tr><td>supported_instructions</td><td>['x', 'cx', 'reset', 'u2', 'shiftf', 'delay', 'u3', 'acquire', 'play', 'sx', 'u1', 'id', 'measure', 'setf', 'rz']</td></tr><tr><td>channels</td><td>{'acquire0': {'operates': {'qubits': [0]}, 'purpose': 'acquire', 'type': 'acquire'}, 'acquire1': {'operates': {'qubits': [1]}, 'purpose': 'acquire', 'type': 'acquire'}, 'acquire2': {'operates': {'qubits': [2]}, 'purpose': 'acquire', 'type': 'acquire'}, 'acquire3': {'operates': {'qubits': [3]}, 'purpose': 'acquire', 'type': 'acquire'}, 'acquire4': {'operates': {'qubits': [4]}, 'purpose': 'acquire', 'type': 'acquire'}, 'd0': {'operates': {'qubits': [0]}, 'purpose': 'drive', 'type': 'drive'}, 'd1': {'operates': {'qubits': [1]}, 'purpose': 'drive', 'type': 'drive'}, 'd2': {'operates': {'qubits': [2]}, 'purpose': 'drive', 'type': 'drive'}, 'd3': {'operates': {'qubits': [3]}, 'purpose': 'drive', 'type': 'drive'}, 'd4': {'operates': {'qubits': [4]}, 'purpose': 'drive', 'type': 'drive'}, 'm0': {'operates': {'qubits': [0]}, 'purpose': 'measure', 'type': 'measure'}, 'm1': {'operates': {'qubits': [1]}, 'purpose': 'measure', 'type': 'measure'}, 'm2': {'operates': {'qubits': [2]}, 'purpose': 'measure', 'type': 'measure'}, 'm3': {'operates': {'qubits': [3]}, 'purpose': 'measure', 'type': 'measure'}, 'm4': {'operates': {'qubits': [4]}, 'purpose': 'measure', 'type': 'measure'}, 'u0': {'operates': {'qubits': [0, 1]}, 'purpose': 'cross-resonance', 'type': 'control'}, 'u1': {'operates': {'qubits': [1, 0]}, 'purpose': 'cross-resonance', 'type': 'control'}, 'u2': {'operates': {'qubits': [1, 2]}, 'purpose': 'cross-resonance', 'type': 'control'}, 'u3': {'operates': {'qubits': [1, 3]}, 'purpose': 'cross-resonance', 'type': 'control'}, 'u4': {'operates': {'qubits': [2, 1]}, 'purpose': 'cross-resonance', 'type': 'control'}, 'u5': {'operates': {'qubits': [3, 1]}, 'purpose': 'cross-resonance', 'type': 'control'}, 'u6': {'operates': {'qubits': [3, 4]}, 'purpose': 'cross-resonance', 'type': 'control'}, 'u7': {'operates': {'qubits': [4, 3]}, 'purpose': 'cross-resonance', 'type': 'control'}}</td></tr><tr><td>pulse_num_qubits</td><td>3</td></tr><tr><td>qubit_lo_range</td><td>[[4.800645227933395, 5.800645227933395], [4.580652943304991, 5.580652943304991], [4.82203497180264, 5.82203497180264], [4.663616322637277, 5.663616322637277], [4.552400630627253, 5.552400630627253]]</td></tr><tr><td>dt</td><td>0.2222222222222222</td></tr><tr><td>allow_object_storage</td><td>True</td></tr><tr><td>credits_required</td><td>True</td></tr><tr><td>meas_levels</td><td>[1, 2]</td></tr><tr><td>sample_name</td><td>family: Falcon, revision: 4, segment: T</td></tr><tr><td>backend_name</td><td>ibmq_quito</td></tr><tr><td>url</td><td>None</td></tr><tr><td>local</td><td>False</td></tr><tr><td>acquisition_latency</td><td>[]</td></tr></table>"
      }
     },
     "b2fc8ec57b444729bde785de3cb2a3ee": {
      "model_module": "@jupyter-widgets/base",
      "model_module_version": "1.2.0",
      "model_name": "LayoutModel",
      "state": {}
     },
     "b523360ac47a4ef19f95a730873bc43d": {
      "model_module": "@jupyter-widgets/controls",
      "model_module_version": "1.5.0",
      "model_name": "HTMLModel",
      "state": {
       "layout": "IPY_MODEL_395e841216414fe69c0882668dd2f15a",
       "style": "IPY_MODEL_545346497bc64dea8966e07920faac75",
       "value": "<table><style>\ntable {\n    border-collapse: collapse;\n    width: auto;\n}\n\nth, td {\n    text-align: left;\n    padding: 8px;\n}\n\ntr:nth-child(even) {background-color: #f6f6f6;};\n</style><tr><th></th><th>Type</th><th>Gate error</th></tr><tr><td><font style='font-weight:bold'>cx3_1</font></td><td>cx</td><td>0.01815</td></tr><tr><td><font style='font-weight:bold'>cx2_1</font></td><td>cx</td><td>0.01407</td></tr><tr><td><font style='font-weight:bold'>cx1_2</font></td><td>cx</td><td>0.01407</td></tr></table>"
      }
     },
     "b928f90c6ace4365bf9dcc32e3fbdaaf": {
      "model_module": "@jupyter-widgets/base",
      "model_module_version": "1.2.0",
      "model_name": "LayoutModel",
      "state": {
       "grid_area": "right",
       "padding": "0px 0px 0px 0px",
       "width": "70px"
      }
     },
     "bd0108399f9044379261c4cb59c8f2f4": {
      "model_module": "@jupyter-widgets/controls",
      "model_module_version": "1.5.0",
      "model_name": "VBoxModel",
      "state": {
       "children": [
        "IPY_MODEL_2e062653145f42b3b901861e71b7e003",
        "IPY_MODEL_6025c992370b4df7a747d066d0f2bec3"
       ],
       "layout": "IPY_MODEL_c6e9f1c878654d37bdc67e599ddaec20"
      }
     },
     "bd5b088921754a2f9601a2fc8a004570": {
      "model_module": "@jupyter-widgets/base",
      "model_module_version": "1.2.0",
      "model_name": "LayoutModel",
      "state": {
       "grid_area": "bottom",
       "width": "auto"
      }
     },
     "be72d89bcd044e7d95d18cde60e8a441": {
      "model_module": "@jupyter-widgets/output",
      "model_module_version": "1.0.0",
      "model_name": "OutputModel",
      "state": {
       "layout": "IPY_MODEL_7c1bd3a4311944afa7518d58d8e7dc1e",
       "outputs": [
        {
         "data": {
          "image/png": "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\n",
          "text/plain": "<Figure size 792x648 with 5 Axes>"
         },
         "metadata": {},
         "output_type": "display_data"
        }
       ]
      }
     },
     "c16c2dd0899646138f93f9b1bd8958d5": {
      "model_module": "@jupyter-widgets/base",
      "model_module_version": "1.2.0",
      "model_name": "LayoutModel",
      "state": {
       "grid_area": "right"
      }
     },
     "c6e9f1c878654d37bdc67e599ddaec20": {
      "model_module": "@jupyter-widgets/base",
      "model_module_version": "1.2.0",
      "model_name": "LayoutModel",
      "state": {}
     },
     "c7a1b6000a8f443e9106bfe584c82c82": {
      "model_module": "@jupyter-widgets/base",
      "model_module_version": "1.2.0",
      "model_name": "LayoutModel",
      "state": {
       "margin": "0px 0px 0px 0px"
      }
     },
     "c7ee34bd922641eabe0341231fe960ac": {
      "model_module": "@jupyter-widgets/controls",
      "model_module_version": "1.5.0",
      "model_name": "HTMLModel",
      "state": {
       "layout": "IPY_MODEL_f746cc732a8d4ada95f60f8a9d50b217",
       "style": "IPY_MODEL_59fa04132f61400e81cf7744ab366ab5",
       "value": "ibmq_quito"
      }
     },
     "c8dbd8d1edf4424d85ee4168c004d986": {
      "model_module": "@jupyter-widgets/controls",
      "model_module_version": "1.5.0",
      "model_name": "HTMLModel",
      "state": {
       "layout": "IPY_MODEL_8698dbbb12654de5b4072baece58e957",
       "style": "IPY_MODEL_d8473b039f9b4dafb0605f2e4fcdf173",
       "value": "<h5>Status</h5>"
      }
     },
     "cb0630361c734dd3a419ed78f4b70a0d": {
      "model_module": "@jupyter-widgets/controls",
      "model_module_version": "1.5.0",
      "model_name": "DescriptionStyleModel",
      "state": {
       "description_width": ""
      }
     },
     "cb94ea3dbf4148e3adade7deb7a4946f": {
      "model_module": "@jupyter-widgets/base",
      "model_module_version": "1.2.0",
      "model_name": "LayoutModel",
      "state": {
       "margin": "0px 0px 10px 0px"
      }
     },
     "cbb56418706e424c8a53e0274b300ef0": {
      "model_module": "@jupyter-widgets/controls",
      "model_module_version": "1.5.0",
      "model_name": "DescriptionStyleModel",
      "state": {
       "description_width": ""
      }
     },
     "cbd0f049d891437f988061a6ed032229": {
      "model_module": "@jupyter-widgets/base",
      "model_module_version": "1.2.0",
      "model_name": "LayoutModel",
      "state": {
       "grid_area": "left",
       "width": "100%"
      }
     },
     "cbf40e4a53e44d42b7a94cdf2f82fbac": {
      "model_module": "@jupyter-widgets/controls",
      "model_module_version": "1.5.0",
      "model_name": "ButtonStyleModel",
      "state": {
       "button_color": "white"
      }
     },
     "cc432402f20a4ccf808502efeec05c8b": {
      "model_module": "@jupyter-widgets/base",
      "model_module_version": "1.2.0",
      "model_name": "LayoutModel",
      "state": {}
     },
     "cd3282cd72e7477999b024aeca284192": {
      "model_module": "@jupyter-widgets/base",
      "model_module_version": "1.2.0",
      "model_name": "LayoutModel",
      "state": {
       "overflow_x": "scroll"
      }
     },
     "cde72deeb7eb497e9e6286d0f7f22810": {
      "model_module": "@jupyter-widgets/base",
      "model_module_version": "1.2.0",
      "model_name": "LayoutModel",
      "state": {
       "grid_area": "left",
       "width": "100%"
      }
     },
     "d4a442900ac2460c8ddd7d6f87982d9b": {
      "model_module": "@jupyter-widgets/base",
      "model_module_version": "1.2.0",
      "model_name": "LayoutModel",
      "state": {
       "grid_gap": "0px 0px",
       "grid_template_areas": "\n                               \"left right right right\"\n                               \"bottom bottom bottom bottom\"\n                               ",
       "grid_template_columns": "31% 23% 23% 23%",
       "grid_template_rows": "auto auto"
      }
     },
     "d67b289b742d4e26bfdad71393a0e96a": {
      "model_module": "@jupyter-widgets/controls",
      "model_module_version": "1.5.0",
      "model_name": "DescriptionStyleModel",
      "state": {
       "description_width": ""
      }
     },
     "d77f5970c881475eaa5f54d9a2b53167": {
      "model_module": "@jupyter-widgets/controls",
      "model_module_version": "1.5.0",
      "model_name": "HTMLModel",
      "state": {
       "layout": "IPY_MODEL_e8470fe5ad324bc8a6b27e3101daa36f",
       "style": "IPY_MODEL_0f1c60d9634b4ebbb82f2104d502e029",
       "value": "-"
      }
     },
     "d8473b039f9b4dafb0605f2e4fcdf173": {
      "model_module": "@jupyter-widgets/controls",
      "model_module_version": "1.5.0",
      "model_name": "DescriptionStyleModel",
      "state": {
       "description_width": ""
      }
     },
     "db863c89cec8465f83937aa6a95de5fd": {
      "model_module": "@jupyter-widgets/controls",
      "model_module_version": "1.5.0",
      "model_name": "DescriptionStyleModel",
      "state": {
       "description_width": ""
      }
     },
     "ddd9ba6b410a45d48d37be9806a5ad69": {
      "model_module": "@jupyter-widgets/base",
      "model_module_version": "1.2.0",
      "model_name": "LayoutModel",
      "state": {
       "width": "190px"
      }
     },
     "e541bff92bcc4f0ab27aa4755aaf6bd3": {
      "model_module": "@jupyter-widgets/controls",
      "model_module_version": "1.5.0",
      "model_name": "HTMLModel",
      "state": {
       "layout": "IPY_MODEL_cd3282cd72e7477999b024aeca284192",
       "style": "IPY_MODEL_ff671aef43344ba286b89d82bb66b55f",
       "value": "job has successfully run"
      }
     },
     "e7624f6109be4b6f9fd3bf124bcda904": {
      "model_module": "@jupyter-widgets/controls",
      "model_module_version": "1.5.0",
      "model_name": "VBoxModel",
      "state": {
       "children": [
        "IPY_MODEL_68eaf27ee27e40dd9245ac145e74157d",
        "IPY_MODEL_84dfb42eef42403182f1592e980c2fbc"
       ],
       "layout": "IPY_MODEL_4230e09372d542f8991ebfab5c29fe76"
      }
     },
     "e8470fe5ad324bc8a6b27e3101daa36f": {
      "model_module": "@jupyter-widgets/base",
      "model_module_version": "1.2.0",
      "model_name": "LayoutModel",
      "state": {
       "width": "70px"
      }
     },
     "edfccc12528140fab3273c3830c963ab": {
      "model_module": "@jupyter-widgets/base",
      "model_module_version": "1.2.0",
      "model_name": "LayoutModel",
      "state": {
       "margin": "0px 5px 0px 0px",
       "width": "32px"
      }
     },
     "f40d5aeafa5e4d7783431458acf86575": {
      "model_module": "@jupyter-widgets/controls",
      "model_module_version": "1.5.0",
      "model_name": "DescriptionStyleModel",
      "state": {
       "description_width": ""
      }
     },
     "f746cc732a8d4ada95f60f8a9d50b217": {
      "model_module": "@jupyter-widgets/base",
      "model_module_version": "1.2.0",
      "model_name": "LayoutModel",
      "state": {
       "width": "145px"
      }
     },
     "f7b8f8612815447985c69831a6e5973b": {
      "model_module": "@jupyter-widgets/controls",
      "model_module_version": "1.5.0",
      "model_name": "HTMLModel",
      "state": {
       "layout": "IPY_MODEL_c16c2dd0899646138f93f9b1bd8958d5",
       "style": "IPY_MODEL_4656a2f8eb7249afbba92905c62f4493",
       "value": "<table><style>\ntable {\n    border-collapse: collapse;\n    width: auto;\n}\n\nth, td {\n    text-align: left;\n    padding: 8px;\n}\n\ntr:nth-child(even) {background-color: #f6f6f6;};\n</style><tr><th></th><th>Type</th><th>Gate error</th></tr><tr><td><font style='font-weight:bold'>cx0_1</font></td><td>cx</td><td>0.01864</td></tr><tr><td><font style='font-weight:bold'>cx1_0</font></td><td>cx</td><td>0.01864</td></tr></table>"
      }
     },
     "f7ee6d66ea424137ad3af30fbf8f6681": {
      "model_module": "@jupyter-widgets/controls",
      "model_module_version": "1.5.0",
      "model_name": "DescriptionStyleModel",
      "state": {
       "description_width": ""
      }
     },
     "fbb7d61879ad4ad49e88a399794de237": {
      "model_module": "@jupyter-widgets/base",
      "model_module_version": "1.2.0",
      "model_name": "LayoutModel",
      "state": {
       "overflow_y": "scroll"
      }
     },
     "fbc7fb58f2904772bb99ef4558c7dc32": {
      "model_module": "@jupyter-widgets/base",
      "model_module_version": "1.2.0",
      "model_name": "LayoutModel",
      "state": {
       "max_height": "620px"
      }
     },
     "fd6e23c2d4b143749dd75d0c17edccfb": {
      "model_module": "@jupyter-widgets/base",
      "model_module_version": "1.2.0",
      "model_name": "LayoutModel",
      "state": {
       "grid_area": "bottom",
       "width": "auto"
      }
     },
     "ff671aef43344ba286b89d82bb66b55f": {
      "model_module": "@jupyter-widgets/controls",
      "model_module_version": "1.5.0",
      "model_name": "DescriptionStyleModel",
      "state": {
       "description_width": ""
      }
     }
    },
    "version_major": 2,
    "version_minor": 0
   }
  }
 },
 "nbformat": 4,
 "nbformat_minor": 5
}
